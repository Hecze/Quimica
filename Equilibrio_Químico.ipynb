{
  "nbformat": 4,
  "nbformat_minor": 0,
  "metadata": {
    "colab": {
      "provenance": [],
      "include_colab_link": true
    },
    "kernelspec": {
      "name": "python3",
      "display_name": "Python 3"
    },
    "language_info": {
      "name": "python"
    }
  },
  "cells": [
    {
      "cell_type": "markdown",
      "metadata": {
        "id": "view-in-github",
        "colab_type": "text"
      },
      "source": [
        "<a href=\"https://colab.research.google.com/github/Hecze/Quimica/blob/main/Equilibrio_Qu%C3%ADmico.ipynb\" target=\"_parent\"><img src=\"https://colab.research.google.com/assets/colab-badge.svg\" alt=\"Open In Colab\"/></a>"
      ]
    },
    {
      "cell_type": "markdown",
      "source": [
        "# **Calculo Quimica, calcular Kp**\n",
        "\n",
        "integrantes:\n",
        "\n",
        "*   Luis Guevara\n",
        "*   Esther Ticlla\n",
        "*   Hector Zerrillo\n",
        "*   Luis Brenis\n",
        "*   Alvaro Cencia\n",
        "\n",
        "\n",
        "\n",
        "\n",
        "\n",
        "\n"
      ],
      "metadata": {
        "id": "qdzvz9z5PHNq"
      }
    },
    {
      "cell_type": "code",
      "source": [
        "#Importamos chempy\n",
        "!pip install chempy"
      ],
      "metadata": {
        "id": "n084Q21hXeHl"
      },
      "execution_count": null,
      "outputs": []
    },
    {
      "cell_type": "markdown",
      "source": [],
      "metadata": {
        "id": "0mi8YxFujOiO"
      }
    },
    {
      "cell_type": "code",
      "source": [
        "from chempy import balance_stoichiometry\n",
        "\n",
        "print(\"\\tCálculo de la constante de equilibrio por presiones parciales\")\n",
        "print(\"\\nLa ecuacion es: A + B --> C + D\\n\")\n",
        "\n",
        "#calcular masa molar de los elementos que es el PA expresados en g/mol\n",
        "from chempy import Substance\n",
        "\n",
        "A=input(\"Ingrese el elemento A: \")\n",
        "B=input(\"Ingrese el elemento B: \")\n",
        "C=input(\"Ingrese el elemento C: \")\n",
        "D=input(\"Ingrese el elemento D: \")\n",
        "\n",
        "#equilibramos estequiometricamente con Chempy\n",
        "reactantes, productos = balance_stoichiometry({A,B},{C,D})\n",
        "\n",
        "coef1=reactantes[A]\n",
        "coef2=reactantes[B]\n",
        "coef3=productos[C]\n",
        "coef4=productos[D]\n",
        "\n",
        "coef1_s=str(coef1)\n",
        "coef2_s=str(coef2)\n",
        "coef3_s=str(coef3)\n",
        "coef4_s=str(coef4)\n",
        "\n",
        "print(\"\\nEl coeficiente de \",A,\" es : \",coef1_s)\n",
        "print(\"El coeficiente de \",B,\" es: \",coef2_s)\n",
        "print(\"El coeficiente de \",C,\" es:\",coef3_s)\n",
        "print(\"El coeficiente de \",D,\" es: \",coef4_s)\n",
        "\n",
        "print(\"\\nLa ecuacion balanceada es:\")\n",
        "\n",
        "print(coef1_s+\" \"+A+\" + \"+coef2_s+\" \"+B+\" --> \"+coef3_s+\" \"+C+\" + \"+coef4_s+\" \"+D)\n",
        "\n",
        "presion_A=input(\"Ingrese presion del elemento \", A)\n",
        "presion_B=input(\"Ingrese presion del elemento \", B)\n",
        "presion_C=input(\"Ingrese presion del elemento \", C)\n",
        "presion_D=input(\"Ingrese presion del elemento \", D)\n"
      ],
      "metadata": {
        "colab": {
          "base_uri": "https://localhost:8080/",
          "height": 522
        },
        "id": "YA-D1lv4aSXe",
        "outputId": "babb9a65-c72d-4512-b02a-dc01179587c7"
      },
      "execution_count": null,
      "outputs": [
        {
          "output_type": "stream",
          "name": "stdout",
          "text": [
            "\tDemostracion de la conservacion de la masa\n",
            "\n",
            "La ecuacion es: A + B --> C + D\n",
            "\n",
            "Ingrese el elemento A: C6H5O2\n",
            "Ingrese el elemento B: O2\n",
            "Ingrese el elemento C: CO2\n",
            "Ingrese el elemento D: OH2\n",
            "\n",
            "El coeficiente de  C6H5O2  es :  4\n",
            "El coeficiente de  O2  es:  25\n",
            "El coeficiente de  CO2  es: 24\n",
            "El coeficiente de  OH2  es:  10\n",
            "\n",
            "La ecuacion balanceada es:\n",
            "4 C6H5O2 + 25 O2 --> 24 CO2 + 10 OH2\n"
          ]
        },
        {
          "output_type": "error",
          "ename": "TypeError",
          "evalue": "ignored",
          "traceback": [
            "\u001b[0;31m---------------------------------------------------------------------------\u001b[0m",
            "\u001b[0;31mTypeError\u001b[0m                                 Traceback (most recent call last)",
            "\u001b[0;32m<ipython-input-21-ea7a9adb93f9>\u001b[0m in \u001b[0;36m<cell line: 36>\u001b[0;34m()\u001b[0m\n\u001b[1;32m     34\u001b[0m \u001b[0mprint\u001b[0m\u001b[0;34m(\u001b[0m\u001b[0mcoef1_s\u001b[0m\u001b[0;34m+\u001b[0m\u001b[0;34m\" \"\u001b[0m\u001b[0;34m+\u001b[0m\u001b[0mA\u001b[0m\u001b[0;34m+\u001b[0m\u001b[0;34m\" + \"\u001b[0m\u001b[0;34m+\u001b[0m\u001b[0mcoef2_s\u001b[0m\u001b[0;34m+\u001b[0m\u001b[0;34m\" \"\u001b[0m\u001b[0;34m+\u001b[0m\u001b[0mB\u001b[0m\u001b[0;34m+\u001b[0m\u001b[0;34m\" --> \"\u001b[0m\u001b[0;34m+\u001b[0m\u001b[0mcoef3_s\u001b[0m\u001b[0;34m+\u001b[0m\u001b[0;34m\" \"\u001b[0m\u001b[0;34m+\u001b[0m\u001b[0mC\u001b[0m\u001b[0;34m+\u001b[0m\u001b[0;34m\" + \"\u001b[0m\u001b[0;34m+\u001b[0m\u001b[0mcoef4_s\u001b[0m\u001b[0;34m+\u001b[0m\u001b[0;34m\" \"\u001b[0m\u001b[0;34m+\u001b[0m\u001b[0mD\u001b[0m\u001b[0;34m)\u001b[0m\u001b[0;34m\u001b[0m\u001b[0;34m\u001b[0m\u001b[0m\n\u001b[1;32m     35\u001b[0m \u001b[0;34m\u001b[0m\u001b[0m\n\u001b[0;32m---> 36\u001b[0;31m \u001b[0mpresion_A\u001b[0m\u001b[0;34m=\u001b[0m\u001b[0mint\u001b[0m\u001b[0;34m(\u001b[0m\u001b[0minput\u001b[0m\u001b[0;34m(\u001b[0m\u001b[0;34m\"Ingrese presion del elemento \"\u001b[0m\u001b[0;34m,\u001b[0m \u001b[0mA\u001b[0m\u001b[0;34m)\u001b[0m\u001b[0;34m)\u001b[0m\u001b[0;34m\u001b[0m\u001b[0;34m\u001b[0m\u001b[0m\n\u001b[0m\u001b[1;32m     37\u001b[0m \u001b[0mpresion_B\u001b[0m\u001b[0;34m=\u001b[0m\u001b[0mint\u001b[0m\u001b[0;34m(\u001b[0m\u001b[0minput\u001b[0m\u001b[0;34m(\u001b[0m\u001b[0;34m\"Ingrese presion del elemento \"\u001b[0m\u001b[0;34m,\u001b[0m \u001b[0mB\u001b[0m\u001b[0;34m)\u001b[0m\u001b[0;34m)\u001b[0m\u001b[0;34m\u001b[0m\u001b[0;34m\u001b[0m\u001b[0m\n\u001b[1;32m     38\u001b[0m \u001b[0mpresion_C\u001b[0m\u001b[0;34m=\u001b[0m\u001b[0mint\u001b[0m\u001b[0;34m(\u001b[0m\u001b[0minput\u001b[0m\u001b[0;34m(\u001b[0m\u001b[0;34m\"Ingrese presion del elemento \"\u001b[0m\u001b[0;34m,\u001b[0m \u001b[0mC\u001b[0m\u001b[0;34m)\u001b[0m\u001b[0;34m)\u001b[0m\u001b[0;34m\u001b[0m\u001b[0;34m\u001b[0m\u001b[0m\n",
            "\u001b[0;31mTypeError\u001b[0m: Kernel.raw_input() takes from 1 to 2 positional arguments but 3 were given"
          ]
        }
      ]
    },
    {
      "cell_type": "code",
      "source": [
        "from chempy import balance_stoichiometry\n",
        "\n",
        "print(\"\\tCálculo de la constante de equilibrio por presiones parciales\")\n",
        "print(\"\\nIngrese la ecuacion en el formato A + B --> C + D\")\n",
        "\n",
        "A = input(\"Ingrese el elemento A: \")\n",
        "B = input(\"Ingrese el elemento B: \")\n",
        "C = input(\"Ingrese el elemento C: \")\n",
        "D = input(\"Ingrese el elemento D: \")\n",
        "reactantes, productos = balance_stoichiometry({A, B}, {C, D})\n",
        "coef_A = reactantes[A]\n",
        "coef_B = reactantes[B]\n",
        "coef_C = productos[C]\n",
        "coef_D = productos[D]\n",
        "P_A = float(input(\"Ingrese la presión parcial de A: \"))\n",
        "P_B = float(input(\"Ingrese la presión parcial de B: \"))\n",
        "P_C = float(input(\"Ingrese la presión parcial de C: \"))\n",
        "P_D = float(input(\"Ingrese la presión parcial de D: \"))\n",
        "Kp_formula = f\"Kp = ((P_{C})^{coef_C} * (P_{D})^{coef_D}) / ((P_{A})^{coef_A} * (P_{B})^{coef_B})\"\n",
        "Kp = (P_C**coef_C * P_D**coef_D) / (P_A**coef_A * P_B**coef_B)\n",
        "ecuacion_balanceada = f\"{coef_A} {A} + {coef_B} {B} --> {coef_C} {C} + {coef_D} {D}\"\n",
        "print(\"\\nEcuación balanceada: \", ecuacion_balanceada)\n",
        "print(f\"Ecuación de Kp: {Kp_formula}\")\n",
        "print(f\"Kp calculado: {Kp}\")"
      ],
      "metadata": {
        "id": "x1EglxzalLwk"
      },
      "execution_count": null,
      "outputs": []
    }
  ]
}