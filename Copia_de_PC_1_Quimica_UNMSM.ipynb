{
  "nbformat": 4,
  "nbformat_minor": 0,
  "metadata": {
    "colab": {
      "provenance": [],
      "toc_visible": true,
      "include_colab_link": true
    },
    "kernelspec": {
      "name": "python3",
      "display_name": "Python 3"
    },
    "language_info": {
      "name": "python"
    },
    "widgets": {
      "application/vnd.jupyter.widget-state+json": {
        "d4691835f4474884829213796343340f": {
          "model_module": "faerun-notebook",
          "model_name": "SmilesDrawerModel",
          "model_module_version": "^0.1.5",
          "state": {
            "_dom_classes": [],
            "_model_module": "faerun-notebook",
            "_model_module_version": "^0.1.5",
            "_model_name": "SmilesDrawerModel",
            "_view_count": null,
            "_view_module": "faerun-notebook",
            "_view_module_version": "^0.1.5",
            "_view_name": "SmilesDrawerView",
            "background": "#1e1e1e",
            "border": true,
            "layout": "IPY_MODEL_35b7ce94b6e84d4c985918e50984dcd7",
            "options": {
              "scale": 1.25
            },
            "output": "svg",
            "theme": "dark",
            "value": [
              [
                "Rxn",
                "C(C1C(C(C(C(O1)O)O)O)O)O.O=O>>C(=O)=O.O"
              ]
            ]
          }
        },
        "35b7ce94b6e84d4c985918e50984dcd7": {
          "model_module": "@jupyter-widgets/base",
          "model_name": "LayoutModel",
          "model_module_version": "1.2.0",
          "state": {
            "_model_module": "@jupyter-widgets/base",
            "_model_module_version": "1.2.0",
            "_model_name": "LayoutModel",
            "_view_count": null,
            "_view_module": "@jupyter-widgets/base",
            "_view_module_version": "1.2.0",
            "_view_name": "LayoutView",
            "align_content": null,
            "align_items": null,
            "align_self": null,
            "border": null,
            "bottom": null,
            "display": null,
            "flex": null,
            "flex_flow": null,
            "grid_area": null,
            "grid_auto_columns": null,
            "grid_auto_flow": null,
            "grid_auto_rows": null,
            "grid_column": null,
            "grid_gap": null,
            "grid_row": null,
            "grid_template_areas": null,
            "grid_template_columns": null,
            "grid_template_rows": null,
            "height": null,
            "justify_content": null,
            "justify_items": null,
            "left": null,
            "margin": null,
            "max_height": null,
            "max_width": null,
            "min_height": null,
            "min_width": null,
            "object_fit": null,
            "object_position": null,
            "order": null,
            "overflow": null,
            "overflow_x": null,
            "overflow_y": null,
            "padding": null,
            "right": null,
            "top": null,
            "visibility": null,
            "width": null
          }
        }
      }
    }
  },
  "cells": [
    {
      "cell_type": "markdown",
      "metadata": {
        "id": "view-in-github",
        "colab_type": "text"
      },
      "source": [
        "<a href=\"https://colab.research.google.com/github/Hecze/Quimica/blob/main/Copia_de_PC_1_Quimica_UNMSM.ipynb\" target=\"_parent\"><img src=\"https://colab.research.google.com/assets/colab-badge.svg\" alt=\"Open In Colab\"/></a>"
      ]
    },
    {
      "cell_type": "markdown",
      "source": [
        "$$\\Large \\textit{UNMSM | Química}$$\n",
        "$$\\large \\textbf{PC Nº1 | Materia y clasificación}$$\n",
        "\n",
        "_Profesor: Jesus Alvarado Huayhuaz_"
      ],
      "metadata": {
        "id": "sDJAjbaQOj4x"
      }
    },
    {
      "cell_type": "markdown",
      "source": [
        "Todas las indicaciones para la presentación de la práctica son explicadas en clase y brindadas en el material de enunciado de preguntas en formato PDF."
      ],
      "metadata": {
        "id": "_DsTzWLoP7Fy"
      }
    },
    {
      "cell_type": "markdown",
      "source": [
        "## Pregunta 1: Sobre el ABC de python (4 puntos)"
      ],
      "metadata": {
        "id": "obD7c2igOD6t"
      }
    },
    {
      "cell_type": "markdown",
      "source": [
        "Durante la semana de revisión del material \"ABC de python\", reflexiona sobre qué conceptos aprendiste con claridad y cuáles consideras los más desafiantes. A continuación resuelve los siguiente ejercicios, puedes ayudarte del material en http://bit.ly/3YKICSZ."
      ],
      "metadata": {
        "id": "emt93S7dL7QH"
      }
    },
    {
      "cell_type": "code",
      "source": [
        "# Imprime la versión de python que usas y las palabras reservadas de python para esa versión."
      ],
      "metadata": {
        "id": "6mJvqMN0LTU8"
      },
      "execution_count": null,
      "outputs": []
    },
    {
      "cell_type": "code",
      "source": [
        "import sys\n",
        "print(\"Versión de Python:\", sys.version)\n",
        "\n",
        "reserved_keywords = [\"False\", \"None\", \"True\", \"and\", \"as\", \"assert\", \"async\", \"await\", \"break\",\n",
        "                    \"class\", \"continue\", \"def\", \"del\", \"elif\", \"else\", \"except\", \"finally\",\n",
        "                    \"for\", \"from\", \"global\", \"if\", \"import\", \"in\", \"is\", \"lambda\", \"nonlocal\",\n",
        "                    \"not\", \"or\", \"pass\", \"raise\", \"return\", \"try\", \"while\", \"with\", \"yield\"]\n",
        "print(\"Palabras reservadas de Python:\", reserved_keywords)"
      ],
      "metadata": {
        "colab": {
          "base_uri": "https://localhost:8080/"
        },
        "id": "QxQWeEfn8R-N",
        "outputId": "c75e747b-78ff-46cc-bb9d-7fc5278beed6"
      },
      "execution_count": null,
      "outputs": [
        {
          "output_type": "stream",
          "name": "stdout",
          "text": [
            "Versión de Python: 3.10.12 (main, Jun 11 2023, 05:26:28) [GCC 11.4.0]\n",
            "Palabras reservadas de Python: ['False', 'None', 'True', 'and', 'as', 'assert', 'async', 'await', 'break', 'class', 'continue', 'def', 'del', 'elif', 'else', 'except', 'finally', 'for', 'from', 'global', 'if', 'import', 'in', 'is', 'lambda', 'nonlocal', 'not', 'or', 'pass', 'raise', 'return', 'try', 'while', 'with', 'yield']\n"
          ]
        }
      ]
    },
    {
      "cell_type": "code",
      "source": [
        "# Crea una matriz de 3x3 e imprime la suma de los elementos en su diagonal (traza)."
      ],
      "metadata": {
        "id": "MxDzGypdLTXh"
      },
      "execution_count": null,
      "outputs": []
    },
    {
      "cell_type": "code",
      "source": [
        "matriz = [[1, 2, 3],\n",
        "          [4, 5, 6],\n",
        "          [7, 8, 9]]\n",
        "\n",
        "suma_diagonal = sum(matriz[i][i] for i in range(len(matriz)))\n",
        "print(\"Suma de la diagonal:\", suma_diagonal)"
      ],
      "metadata": {
        "colab": {
          "base_uri": "https://localhost:8080/"
        },
        "id": "cQGAOpMp8TLF",
        "outputId": "707f8d2c-6046-47bc-e1bb-106b36b0110e"
      },
      "execution_count": null,
      "outputs": [
        {
          "output_type": "stream",
          "name": "stdout",
          "text": [
            "Suma de la diagonal: 15\n"
          ]
        }
      ]
    },
    {
      "cell_type": "code",
      "source": [
        "# Guarda como variable la masa atómica de los elementos C, H y O, e imprime la masa molecular del etanol."
      ],
      "metadata": {
        "id": "MyhNX7JmLTSe"
      },
      "execution_count": null,
      "outputs": []
    },
    {
      "cell_type": "code",
      "source": [
        "# Masa atómica de elementos\n",
        "masa_atomica = {\n",
        "    'C': 12.01,\n",
        "    'H': 1.008,\n",
        "    'O': 16.00\n",
        "}\n",
        "\n",
        "# Masa molecular del etanol (C2H5OH)\n",
        "masa_etanol = 2 * masa_atomica['C'] + 6 * masa_atomica['H'] + masa_atomica['O']\n",
        "print(\"Masa molecular del etanol:\", masa_etanol)"
      ],
      "metadata": {
        "colab": {
          "base_uri": "https://localhost:8080/"
        },
        "id": "ttjgBk7x8kj1",
        "outputId": "c7b0e759-5918-48f0-b7ed-bc116234d300"
      },
      "execution_count": null,
      "outputs": [
        {
          "output_type": "stream",
          "name": "stdout",
          "text": [
            "Masa molecular del etanol: 46.068\n"
          ]
        }
      ]
    },
    {
      "cell_type": "code",
      "source": [
        "# Busca la temperatura de fusión en Celsius de 5 metales y guárdalos en una lista. Imprime las temperaturas en Kelvin"
      ],
      "metadata": {
        "id": "NCOnJ0FwgLLc"
      },
      "execution_count": null,
      "outputs": []
    },
    {
      "cell_type": "code",
      "source": [
        "temperaturas_fusion_C = {\n",
        "    'Hierro': 1538,\n",
        "    'Cobre': 1085,\n",
        "    'Plata': 961.8,\n",
        "    'Oro': 1064,\n",
        "    'Aluminio': 660.3\n",
        "}\n",
        "\n",
        "temperaturas_fusion_K = {metal: temp + 273.15 for metal, temp in temperaturas_fusion_C.items()}\n",
        "\n",
        "print(\"Temperaturas de fusión en Kelvin:\")\n",
        "for metal, temp in temperaturas_fusion_K.items():\n",
        "    print(f\"{metal}: {temp} K\")"
      ],
      "metadata": {
        "id": "wliTceC38_H-"
      },
      "execution_count": null,
      "outputs": []
    },
    {
      "cell_type": "markdown",
      "source": [
        "## Pregunta 2: Operaciones (4 puntos)"
      ],
      "metadata": {
        "id": "epzOadagLfPi"
      }
    },
    {
      "cell_type": "markdown",
      "source": [
        "Escribe un programa que lea repetidamente elementos químicos en español hasta que el usuario introduzca “fin”. Una vez se haya introducido “fin”, muestra por pantalla (o sea imprime) el total de elementos ingresados. Si el usuario introduce cualquier otra cosa que no sea un elemento químico, detecta su fallo usando try y except, muestra un mensaje de error y pasa al siguiente elemento."
      ],
      "metadata": {
        "id": "MbAEOGPsjOWZ"
      }
    },
    {
      "cell_type": "code",
      "source": [
        "# Definir un diccionario de elementos químicos en español y sus símbolos\n",
        "elementos_quimicos = {\n",
        "    \"hidrogeno\": \"H\", \"helio\": \"He\", \"litio\": \"Li\", \"berilio\": \"Be\", \"boro\": \"B\", \"carbono\": \"C\",\n",
        "    \"nitrogeno\": \"N\", \"oxigeno\": \"O\", \"fluor\": \"F\", \"neon\": \"Ne\", \"sodio\": \"Na\", \"magnesio\": \"Mg\",\n",
        "    \"aluminio\": \"Al\", \"silicio\": \"Si\", \"fosforo\": \"P\", \"azufre\": \"S\", \"cloro\": \"Cl\", \"argon\": \"Ar\",\n",
        "    \"potasio\": \"K\", \"calcio\": \"Ca\", \"escandio\": \"Sc\", \"titanio\": \"Ti\", \"vanadio\": \"V\", \"cromo\": \"Cr\",\n",
        "    \"manganeso\": \"Mn\", \"hierro\": \"Fe\", \"cobalto\": \"Co\", \"níquel\": \"Ni\", \"cobre\": \"Cu\", \"zinc\": \"Zn\",\n",
        "    \"galio\": \"Ga\", \"germanio\": \"Ge\", \"arsenico\": \"As\", \"selenio\": \"Se\", \"bromo\": \"Br\", \"cripton\": \"Kr\",\n",
        "    \"rubidio\": \"Rb\", \"estroncio\": \"Sr\", \"itrio\": \"Y\", \"circonio\": \"Zr\", \"niobio\": \"Nb\", \"molibdeno\": \"Mo\",\n",
        "    \"tecnecio\": \"Tc\", \"rutenio\": \"Ru\", \"rodio\": \"Rh\", \"paladio\": \"Pd\", \"plata\": \"Ag\", \"cadmio\": \"Cd\",\n",
        "    \"indio\": \"In\", \"estano\": \"Sn\", \"antimonio\": \"Sb\", \"telurio\": \"Te\", \"yodo\": \"I\", \"xenon\": \"Xe\",\n",
        "    \"cesio\": \"Cs\", \"bario\": \"Ba\", \"lantano\": \"La\", \"cerio\": \"Ce\", \"praseodimio\": \"Pr\", \"neodimio\": \"Nd\",\n",
        "    \"prometio\": \"Pm\", \"samario\": \"Sm\", \"europio\": \"Eu\", \"gadolinio\": \"Gd\", \"terbio\": \"Tb\", \"disprosio\": \"Dy\",\n",
        "    \"holmio\": \"Ho\", \"erbio\": \"Er\", \"tulio\": \"Tm\", \"iterbio\": \"Yb\", \"lutecio\": \"Lu\", \"hafnio\": \"Hf\",\n",
        "    \"tantalio\": \"Ta\", \"wolframio\": \"W\", \"renio\": \"Re\", \"osmio\": \"Os\", \"iridio\": \"Ir\", \"platino\": \"Pt\",\n",
        "    \"oro\": \"Au\", \"mercurio\": \"Hg\", \"talio\": \"Tl\", \"plomo\": \"Pb\", \"bismuto\": \"Bi\", \"polonio\": \"Po\",\n",
        "    \"astato\": \"At\", \"radon\": \"Rn\", \"francio\": \"Fr\", \"radio\": \"Ra\", \"actinio\": \"Ac\", \"torio\": \"Th\",\n",
        "    \"proctactinio\": \"Pa\", \"uranio\": \"U\", \"neptunio\": \"Np\", \"plutonio\": \"Pu\", \"americio\": \"Am\",\n",
        "    \"curio\": \"Cm\", \"berkelio\": \"Bk\", \"californio\": \"Cf\", \"einsteinio\": \"Es\", \"fermio\": \"Fm\",\n",
        "    \"mendelevio\": \"Md\", \"nobelio\": \"No\", \"lawrencio\": \"Lr\", \"rutherfordio\": \"Rf\", \"dubnio\": \"Db\",\n",
        "    \"seaborgio\": \"Sg\", \"bohrio\": \"Bh\", \"hasio\": \"Hs\", \"meitnerio\": \"Mt\", \"darmstatio\": \"Ds\",\n",
        "    \"roentgenio\": \"Rg\", \"copernicio\": \"Cn\", \"nihonio\": \"Nh\", \"flerovio\": \"Fl\", \"moscovio\": \"Mc\",\n",
        "    \"livermorio\": \"Lv\", \"tennessino\": \"Ts\", \"oganesson\": \"Og\"\n",
        "}\n",
        "\n",
        "total_elementos = []\n",
        "\n",
        "while True:\n",
        "    entrada = input(\"Introduce un elemento químico en español (o 'fin' para terminar): \").lower()\n",
        "\n",
        "    if entrada == \"fin\":\n",
        "        break\n",
        "\n",
        "    try:\n",
        "        simbolo = elementos_quimicos[entrada]\n",
        "        total_elementos += simbolo\n",
        "    except KeyError:\n",
        "        print(f\"¡Error! '{entrada}' no es un elemento químico válido.\")\n",
        "\n",
        "print(f\"Total de elementos ingresados: {total_elementos}\")\n"
      ],
      "metadata": {
        "id": "gJGX0p5QLetj",
        "colab": {
          "base_uri": "https://localhost:8080/"
        },
        "outputId": "1e31bd90-7e2b-49e9-c0b2-0f422ad406a2"
      },
      "execution_count": null,
      "outputs": [
        {
          "output_type": "stream",
          "name": "stdout",
          "text": [
            "Introduce un elemento químico en español (o 'fin' para terminar): selenio\n",
            "Introduce un elemento químico en español (o 'fin' para terminar): hidrogeno\n",
            "Introduce un elemento químico en español (o 'fin' para terminar): asdas\n",
            "¡Error! 'asdas' no es un elemento químico válido.\n",
            "Introduce un elemento químico en español (o 'fin' para terminar): fin\n",
            "Total de elementos ingresados: ['S', 'e', 'H']\n"
          ]
        }
      ]
    },
    {
      "cell_type": "markdown",
      "source": [
        "# Pregunta 3: Conservación de la masa (4 puntos)"
      ],
      "metadata": {
        "id": "8gxSHpD3LZsh"
      }
    },
    {
      "cell_type": "markdown",
      "source": [
        "### Código necesario para generar la imagen"
      ],
      "metadata": {
        "id": "mMV9c3hDl7KL"
      }
    },
    {
      "cell_type": "code",
      "source": [
        "!pip install faerun-notebook==0.1.5b0\n",
        "\n",
        "import ipywidgets as widgets\n",
        "from faerun_notebook import SmilesDrawer\n",
        "from google.colab import output\n",
        "output.enable_custom_widget_manager()"
      ],
      "metadata": {
        "id": "JgF8Ohtbky65"
      },
      "execution_count": null,
      "outputs": []
    },
    {
      "cell_type": "markdown",
      "source": [
        "### Reacción química"
      ],
      "metadata": {
        "id": "5sLC10D_oSrV"
      }
    },
    {
      "cell_type": "markdown",
      "source": [
        "Demuestra cómo se cumple la conservación de la masa en la siguiente reacción química. Sugerencia: hacer un balance estequiométrico y luego emplear la masa molecular de reactivos y productos."
      ],
      "metadata": {
        "id": "OVRhAzaVmD86"
      }
    },
    {
      "cell_type": "code",
      "source": [
        "SmilesDrawer(value=[(\"Rxn\", \"C(C1C(C(C(C(O1)O)O)O)O)O.O=O>>C(=O)=O.O\")], theme='dark', background=\"#1e1e1e\", options={'scale': 1.25})"
      ],
      "metadata": {
        "colab": {
          "base_uri": "https://localhost:8080/",
          "height": 289,
          "referenced_widgets": [
            "d4691835f4474884829213796343340f",
            "35b7ce94b6e84d4c985918e50984dcd7"
          ]
        },
        "id": "CC0mAXWmnYyN",
        "outputId": "fb9a2a33-11fa-47cd-bffe-ce9c285db1d8"
      },
      "execution_count": null,
      "outputs": [
        {
          "output_type": "display_data",
          "data": {
            "text/plain": [
              "SmilesDrawer(background='#1e1e1e', options={'scale': 1.25}, theme='dark', value=[('Rxn', 'C(C1C(C(C(C(O1)O)O)O…"
            ],
            "application/vnd.jupyter.widget-view+json": {
              "version_major": 2,
              "version_minor": 0,
              "model_id": "d4691835f4474884829213796343340f"
            }
          },
          "metadata": {
            "application/vnd.jupyter.widget-view+json": {
              "colab": {
                "custom_widget_manager": {
                  "url": "https://ssl.gstatic.com/colaboratory-static/widgets/colab-cdn-widget-manager/b3e629b1971e1542/manager.min.js"
                }
              }
            }
          }
        }
      ]
    },
    {
      "cell_type": "code",
      "source": [
        "!pip install chempy"
      ],
      "metadata": {
        "id": "g3V054f90T-2"
      },
      "execution_count": null,
      "outputs": []
    },
    {
      "cell_type": "markdown",
      "source": [
        "**PRIMERO BALANCEAMOS LA ECUACIÓN USANDO CHEMPY:**"
      ],
      "metadata": {
        "id": "cXAu9HJg0Yl2"
      }
    },
    {
      "cell_type": "code",
      "source": [
        "from chempy import balance_stoichiometry\n",
        "\n",
        "reactants = {'C6H5O6': 1, 'O2': 1}\n",
        "products = {'CO2': 1, 'H2O': 1}\n",
        "\n",
        "balanced_reaction = balance_stoichiometry(reactants, products)\n",
        "\n",
        "print(\"Ecuación balanceada:\")\n",
        "for reactant, coefficient in balanced_reaction[0].items():\n",
        "    reactants[reactant] = coefficient\n",
        "for product, coefficient in balanced_reaction[1].items():\n",
        "    products[product] = coefficient\n",
        "\n",
        "print(reactants, products)\n",
        "\n"
      ],
      "metadata": {
        "id": "WrZPaXnVmeLO"
      },
      "execution_count": null,
      "outputs": []
    },
    {
      "cell_type": "markdown",
      "source": [
        "**AHORA COMPARAMOS LOS REACTANTES CON LOS PRODUCTOS PARA COMPROBAR LA CONSERVACIÓN DE LA MASA**"
      ],
      "metadata": {
        "id": "B9dEs4hq0i_V"
      }
    },
    {
      "cell_type": "code",
      "source": [
        "# Calcula la masa molar total de los reactivos y productos\n",
        "total_reactants_mass = sum(coeff * Substance.from_formula(reactant).mass for reactant, coeff in reactants.items())\n",
        "total_products_mass = sum(coeff * Substance.from_formula(product).mass for product, coeff in products.items())\n",
        "\n",
        "# Imprime las masas de los reactivos\n",
        "print(\"Masa de los reactivos:\")\n",
        "for i, (reactant, coeff) in enumerate(reactants.items(), start=1):\n",
        "    reactant_mass = coeff * Substance.from_formula(reactant).mass\n",
        "    print(f\"Reactivo {i}: {reactant_mass:.2f}\")\n",
        "\n",
        "print(f\"Masa Total: {total_reactants_mass:.2f}\\n\")\n",
        "\n",
        "# Imprime las masas de los productos\n",
        "print(\"Masa de los productos:\")\n",
        "for i, (product, coeff) in enumerate(products.items(), start=1):\n",
        "    product_mass = coeff * Substance.from_formula(product).mass\n",
        "    print(f\"Producto {i}: {product_mass:.2f}\")\n",
        "\n",
        "print(f\"Masa Total: {total_products_mass:.2f}\\n\")\n",
        "\n",
        "# Compara las masas molares\n",
        "print(\"RESULTADO\")\n",
        "if total_reactants_mass == total_products_mass:\n",
        "    print(\"SÍ hay conservación de masas.\")\n",
        "else:\n",
        "    print(\"NO hay conservación de masas.\")"
      ],
      "metadata": {
        "id": "DB16PMVfn2cv",
        "outputId": "af383e3c-56a6-47eb-9370-acc9e11a9346",
        "colab": {
          "base_uri": "https://localhost:8080/"
        }
      },
      "execution_count": null,
      "outputs": [
        {
          "output_type": "stream",
          "name": "stdout",
          "text": [
            "Masa de los reactivos:\n",
            "Reactivo 1: 692.40\n",
            "Reactivo 2: 543.97\n",
            "Total React: 1236.37\n",
            "\n",
            "Masa de los productos:\n",
            "Producto 1: 1056.22\n",
            "Producto 2: 180.15\n",
            "Total Prod: 1236.37\n",
            "\n",
            "RESULTADO\n",
            "SÍ hay conservación de masas.\n"
          ]
        }
      ]
    },
    {
      "cell_type": "code",
      "source": [],
      "metadata": {
        "id": "BXVnOU75uufD"
      },
      "execution_count": null,
      "outputs": []
    },
    {
      "cell_type": "markdown",
      "source": [
        "## Pregunta 4: Notación científica (4 puntos)"
      ],
      "metadata": {
        "id": "Rh-nAUiKhJNB"
      }
    },
    {
      "cell_type": "markdown",
      "source": [
        "Imprime las siguientes operaciones según la notación científica:\n",
        "\n",
        "(1) $1.321 \\times 10^{-4} + 8.5 \\times 10^{-2}$\n",
        "\n",
        "(2) $1.71 \\times 10^{3} - 2.01 \\times 10^{2}\\$\n",
        "\n",
        "(3) $(7.4 \\times 10^5)(7.2 \\times 10^4)$\n",
        "\n",
        "(4) $(7.4 \\times 10^5)/(7.2 \\times 10^4)$"
      ],
      "metadata": {
        "id": "NIkI45Xdqqnt"
      }
    },
    {
      "cell_type": "code",
      "source": [
        "def operar(operacion, *args):\n",
        "    factores = list(args)\n",
        "    result = 0\n",
        "    if operacion == \"sumar\":\n",
        "          for x in range(len(factores)):\n",
        "            result= result+factores[x]\n",
        "    elif operacion == \"restar\":\n",
        "        for x in range(len(factores)):\n",
        "            result= result-factores[x]\n",
        "    elif operacion == \"multiplicar\":\n",
        "        result = 1\n",
        "        for x in range(len(factores)):\n",
        "            result= result*factores[x]\n",
        "    elif operacion == \"dividir\":\n",
        "          try:\n",
        "            result=(factores[0])/(factores[1])\n",
        "          except ZeroDivisionError as m:\n",
        "            print(\"No se puede dividir: \",m)\n",
        "          except TypeError as n:\n",
        "            print(\"No se puede dividir: \",n)\n",
        "    return result\n",
        "\n",
        "operacion1 = operar(\"sumar\", 1.321*pow(10,4),8.5*pow(10,-2))\n",
        "operacion2 = operar(\"restar\", 1.71*pow(10,3),2.01*pow(10,2))\n",
        "operacion3 = operar(\"multiplicar\",7.4*pow(10,5),7.2*pow(10,4))\n",
        "operacion4 = operar(\"dividir\", 7.4*pow(10,5),7.2*pow(10,4))\n",
        "\n",
        "operaciones = [operacion1,operacion2,operacion3,operacion4]\n",
        "\n",
        "for operacion in operaciones:\n",
        "    operacion = format(operacion, '.3E')\n",
        "    operacion = operacion.replace(\"E+\",\" * 10^\")\n",
        "    print(operacion)"
      ],
      "metadata": {
        "colab": {
          "base_uri": "https://localhost:8080/"
        },
        "id": "IXnKQJaY0BX3",
        "outputId": "05dd4b95-7e0f-489c-eb06-da7116f49181"
      },
      "execution_count": null,
      "outputs": [
        {
          "output_type": "stream",
          "name": "stdout",
          "text": [
            "1.321 * 10^04\n",
            "-1.911 * 10^03\n",
            "5.328 * 10^10\n",
            "1.028 * 10^01\n"
          ]
        }
      ]
    },
    {
      "cell_type": "markdown",
      "source": [
        "## Pregunta 5: Método científico (4 puntos)"
      ],
      "metadata": {
        "id": "CuzCcXJghR14"
      }
    },
    {
      "cell_type": "markdown",
      "source": [
        "Artículo: https://bit.ly/3surZ1W\n",
        "Leer el siguiente artículo y explica cómo es aplicado el método científico. Emplea como máximo 300 palabras."
      ],
      "metadata": {
        "id": "WngRSR-Rhmx1"
      }
    },
    {
      "cell_type": "markdown",
      "source": [
        "El artículo discute la aplicación del método científico en la investigación de las propiedades del compuesto LK-99. Inicialmente, un equipo surcoreano afirmó que LK-99 era un superconductor a temperatura ambiente, lo que atrajo una amplia atención. Sin embargo, el trabajo científico posterior tenía como objetivo verificar esta afirmación.\n",
        "\n",
        "El método científico implica hacer observaciones, formar hipótesis, realizar experimentos y sacar conclusiones. En este caso, la afirmación inicial del equipo surcoreano sirvió como observación, y la comunidad científica respondió con escepticismo e intentos de replicación. Diferentes grupos de investigación participaron en investigaciones sistemáticas para probar la hipótesis de que LK-99 era un superconductor a temperatura ambiente.\n",
        "\n",
        "A través de una serie de experimentos y análisis, los investigadores abordaron sistemáticamente varios aspectos del comportamiento de LK-99. Diferentes equipos investigaron su resistividad eléctrica, propiedades de levitación, impurezas y estructura cristalina. Estos esfuerzos involucraron una combinación de datos experimentales, cálculos teóricos y análisis críticos. Como resultado, la afirmación original fue cuestionada y finalmente refutada.\n",
        "\n",
        "Las conclusiones derivadas de estas investigaciones proporcionaron una comprensión integral de las propiedades de LK-99. Los investigadores descubrieron que las impurezas, particularmente el sulfuro de cobre, eran responsables de los fenómenos observados y que el compuesto no era un superconductor sino un aislante. El artículo ilustra cómo el método científico guió a los investigadores en su búsqueda de conocimiento preciso, enfatizando la importancia de la replicación, la revisión por pares y la colaboración interdisciplinaria para garantizar la validez de las afirmaciones científicas."
      ],
      "metadata": {
        "id": "wbakdDEpByLd"
      }
    },
    {
      "cell_type": "code",
      "source": [],
      "metadata": {
        "id": "xReP4grEB0AC"
      },
      "execution_count": null,
      "outputs": []
    }
  ]
}