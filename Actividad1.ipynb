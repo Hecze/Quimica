{
  "nbformat": 4,
  "nbformat_minor": 0,
  "metadata": {
    "colab": {
      "provenance": [],
      "include_colab_link": true
    },
    "kernelspec": {
      "name": "python3",
      "display_name": "Python 3"
    },
    "language_info": {
      "name": "python"
    }
  },
  "cells": [
    {
      "cell_type": "markdown",
      "metadata": {
        "id": "view-in-github",
        "colab_type": "text"
      },
      "source": [
        "<a href=\"https://colab.research.google.com/github/Hecze/Quimica/blob/main/Actividad1.ipynb\" target=\"_parent\"><img src=\"https://colab.research.google.com/assets/colab-badge.svg\" alt=\"Open In Colab\"/></a>"
      ]
    },
    {
      "cell_type": "markdown",
      "source": [
        "Fuerzas intermoleculares:\n",
        "\n",
        "11.1 Aporta un ejemplo para cada tipo de fuerzas intermoleculares: a) interacción dipolar, b) interacción dipolo inducido, c) interacción ion-dipolo, d) fuerzas de dispersión, e) Fuerzas de Van der Waals\n",
        "\n",
        "a) Interacción dipolar: El agua (H2O) se mantiene en estado líquido a temperatura ambiente debido a que sus moléculas tienen polos positivos y negativos que se atraen entre sí.\n",
        "\n",
        "b) Interacción dipolo inducido: El dióxido de carbono es un gas a temperatura ambiente ya que sus moléculas no tienen una distribución de carga asimétrica y, por lo tanto, no inducen dipolos en otras moléculas para atraerse.\n",
        "\n",
        "c) Interacción ion-dipolo: El cloruro de sodio (NaCl) forma un sólido a temperatura ambiente porque los iones de sodio (Na+) y cloruro (Cl-) interactúan con las moléculas de agua, que tienen dipolos, a través de interacciones ion-dipolo.\n",
        "\n",
        "d) Fuerzas de dispersión: El helio (He) es un gas a temperatura ambiente debido a las fuerzas de dispersión que actúan entre sus átomos.\n",
        "\n",
        "e) Fuerzas de Van der Waals: El término \"Fuerzas de Van der Waals\" se refiere a las fuerzas débiles entre moléculas, incluyendo tanto las interacciones dipolares (como en el caso del agua) como las interacciones de dispersión (como en el caso del helio). Estas fuerzas son responsables de mantener unidas a las moléculas en estado líquido o sólido"
      ],
      "metadata": {
        "id": "sjduKG-CeD0R"
      }
    },
    {
      "cell_type": "markdown",
      "source": [
        "11.2 Explique el término \"polarizabilidad\". ¿Qué clase de moléculas tienden a ser muy polarizables? ¿Qué relación existe entre la polarizabilidad y las fuerzas intermoleculares?\n",
        "\n",
        "La polarizabilidad es la facilidad con la que la nube de electrones de una molécula puede ser distorsionada por un campo eléctrico externo.\n",
        "Las moléculas más polarizables son aquellas que tienen electrones no compartidos, átomos con cargas nucleares grandes o moléculas grandes.\n",
        "El agua es un líquido a temperatura ambiente porque las moléculas de agua tienen un dipolo permanente y son muy polarizables.\n",
        "Las moléculas más polarizables tienen fuerzas intermoleculares más fuertes. Esto se debe a que pueden distorsionar más fácilmente la nube de electrones de otras moléculas, lo que resulta en una atracción más fuerte entre ellas.\n",
        "En general, las moléculas con fuerzas intermoleculares más fuertes tienen puntos de fusión y ebullición más altos, solubilidad más baja y viscosidad más alta."
      ],
      "metadata": {
        "id": "rmMuqTl6eMiO"
      }
    },
    {
      "cell_type": "markdown",
      "source": [
        "11.3 Explique la diferencia entre un momento dipolar temporal y un momento dipolar permanente\n",
        "\n",
        "El momento dipolar temporal es una distribución asimétrica de carga que se produce temporalmente cuando la nube de electrones de una molécula se distorsiona por un campo eléctrico externo.\n",
        "El momento dipolar permanente es una distribución asimétrica de carga que se produce permanentemente cuando los átomos de una molécula tienen diferentes electronegatividades.\n",
        "En pocas palabras, el momento dipolar temporal es débil y temporal, mientras que el momento dipolar permanente es fuerte y permanente."
      ],
      "metadata": {
        "id": "XHBJbEizeQ-4"
      }
    },
    {
      "cell_type": "markdown",
      "source": [
        "11.4 Mencione alguna evidencia de que todos los átomos y moléculas ejercen entre sí fuerzas de atracción\n",
        "\n",
        "La presión de vapor. La presión de vapor es la presión que ejerce un líquido sobre su vapor en equilibrio.\n",
        "La presión de vapor aumenta con la temperatura porque las moléculas del líquido tienen más energía para escapar de la superficie del líquido.\n",
        "Esto es posible gracias a las fuerzas intermoleculares, que son las que mantienen a las moléculas del líquido juntas.\n",
        "\n",
        "El punto de ebullición. El punto de ebullición es la temperatura a la que la presión de vapor de un líquido es igual a la presión atmosférica.\n",
        "En este punto, las moléculas del líquido tienen suficiente energía para escapar de la superficie del líquido y formar vapor.\n",
        "El punto de ebullición aumenta con la fuerza de las fuerzas intermoleculares.\n",
        "\n",
        "La solubilidad. La solubilidad es la capacidad de una sustancia de disolverse en otra. Las sustancias que son solubles entre sí tienen fuerzas intermoleculares similares."
      ],
      "metadata": {
        "id": "FYAXdoG4eT8i"
      }
    },
    {
      "cell_type": "markdown",
      "source": [
        "11.6 ¿Cuáles elementos pueden participar en los enlaces de hidrógeno? ¿Por qué el hidrógeno en único en este tipo de interacción?\n",
        "\n",
        "Los elementos que pueden participar en los enlaces de hidrógeno son aquellos que tienen un átomo de hidrógeno unido a un átomo electronegativo, como el oxígeno, el nitrógeno o el flúor. Estos átomos electronegativos atraen fuertemente los electrones del átomo de hidrógeno, lo que crea un dipolo permanente. El extremo positivo del dipolo del átomo de hidrógeno se atrae al extremo negativo del dipolo del átomo electronegativo de otra molécula."
      ],
      "metadata": {
        "id": "Y7dgR5dqeXLK"
      }
    },
    {
      "cell_type": "markdown",
      "source": [
        "Propiedades de los líquidos:\n",
        "\n",
        "\n",
        "11.21 ¿Por qué los líquidos, a diferencia de los gases, son prácticamente incompresibles?\n",
        "\n",
        "\n",
        "Los líquidos son prácticamente incompresibles porque las moléculas de un líquido están muy juntas y se atraen entre sí por fuerzas intermoleculares. Estas fuerzas, como las fuerzas de van der Waals, las fuerzas de dispersión de London y los enlaces de hidrógeno, mantienen a las moléculas juntas y dificultan que se muevan unas con respecto a otras.\n",
        "\n",
        "En cambio, las moléculas de un gas están muy separadas y no se atraen entre sí. Esto significa que las moléculas de un gas pueden moverse libremente y ocupar mucho espacio."
      ],
      "metadata": {
        "id": "BjYRMn1pfTOY"
      }
    },
    {
      "cell_type": "markdown",
      "source": [
        "11.22 ¿Qué es la tensión superficial? ¿Qué relación existe entre esta proquiedad y las fuierzas entermoleculares? ¿Cómo cambia la tensión superficial con la temperatura?\n",
        "\n",
        "La tensión superficial es la fuerza que actúa en la superficie de un líquido y que tiende a reducir su área. Es una propiedad física que depende de la naturaleza del líquido y de la temperatura.\n",
        "\n",
        "La tensión superficial se debe a las fuerzas intermoleculares que actúan entre las moléculas de un líquido. Estas fuerzas, como las fuerzas de van der Waals, las fuerzas de dispersión de London y los enlaces de hidrógeno, atraen a las moléculas entre sí.\n",
        "\n",
        "En la superficie de un líquido, las moléculas se atraen hacia el interior del líquido, ya que las fuerzas intermoleculares son más fuertes en el interior que en la superficie. Esto crea una fuerza que tiende a reducir el área de la superficie.\n",
        "\n",
        "La tensión superficial aumenta con la fuerza de las fuerzas intermoleculares. Los líquidos con enlaces de hidrógeno, como el agua, tienen una tensión superficial más alta que los líquidos sin enlaces de hidrógeno.\n",
        "\n",
        "La tensión superficial disminuye con la temperatura. A medida que aumenta la temperatura, las moléculas del líquido tienen más energía y se mueven más rápido. Esto hace que las fuerzas intermoleculares sean más débiles y, por lo tanto, la tensión superficial disminuye."
      ],
      "metadata": {
        "id": "vOgfzFaigauT"
      }
    },
    {
      "cell_type": "markdown",
      "source": [
        "11.23 A pesar de que el acero inoxidable es mucho más denso que el agua, una navaja de afeitar de acero inoxidable puede flotar en el agual. ¿Por qué?\n",
        "\n",
        "Una navaja de afeitar de acero inoxidable flota en el agua debido a la tensión superficial del agua. La tensión superficial es una fuerza que actúa en la superficie de un líquido y que tiende a reducir su área. Esta fuerza es lo suficientemente fuerte como para soportar objetos pequeños y ligeros, como una navaja de afeitar."
      ],
      "metadata": {
        "id": "st8Gt6Jwg_rc"
      }
    },
    {
      "cell_type": "markdown",
      "source": [
        "11.24 Utilice el agua y el mercurio como ejemplos para explicar la adhesión y la cohesión\n",
        "\n",
        "\n",
        "Adhesión es la atracción entre moléculas de diferentes sustancias. Cohesión es la atracción entre moléculas de la misma sustancia.\n",
        "\n",
        "El agua es un líquido que es muy cohesivo. Las moléculas de agua se atraen fuertemente entre sí mediante enlaces de hidrógeno. Esta cohesión es la razón por la que el agua se agrupa en gotas y puede subir por los tubos capilares.\n",
        "\n",
        "El mercurio es un líquido que es muy poco cohesivo. Las moléculas de mercurio se atraen débilmente entre sí. Esta falta de cohesión es la razón por la que el mercurio forma gotas planas y no se adhiere a las superficies."
      ],
      "metadata": {
        "id": "hZxSr1xMh0e2"
      }
    },
    {
      "cell_type": "markdown",
      "source": [
        "Soluciones:\n",
        "\n",
        "12.3 Describa brevemente el proceso de disolución a nivel molecular. Utilice como ejemplo la disolución de un sólido en un líquido.\n",
        "\n",
        "El proceso de disolución es un proceso físico que ocurre a nivel molecular. La disolución de un sólido en un líquido ocurre cuando las moléculas del soluto se separan de sus enlaces intermoleculares y se disuelven en las moléculas del disolvente. La solubilidad de una sustancia en otra depende de varios factores, incluyendo la naturaleza del soluto y el disolvente, la temperatura y la presión.\n",
        "\n",
        "Cuando se disuelve azúcar en agua, las moléculas de azúcar se separan de sus enlaces intermoleculares y se disuelven en las moléculas de agua. Las moléculas de azúcar se atraen más a las moléculas de agua que a sus propias moléculas, ya que las moléculas de agua tienen enlaces de hidrógeno que pueden interactuar con las moléculas de azúcar. Las moléculas de azúcar se distribuyen uniformemente por todo el agua debido al movimiento aleatorio de las moléculas."
      ],
      "metadata": {
        "id": "LcEpNwrqiGNr"
      }
    },
    {
      "cell_type": "markdown",
      "source": [
        "12.4 A partir de las fuerzas intermoleculares, explique el sinificado de \"lo semejante disuelve lo semejante\".\n",
        "\n",
        "Las fuerzas intermoleculares son las fuerzas que atraen a las moléculas entre sí.\n",
        "\n",
        "\"lo semejante disuelve lo semejante\" se refiere a la idea de que las sustancias con fuerzas intermoleculares similares tienden a disolverse más fácilmente entre sí."
      ],
      "metadata": {
        "id": "_6hQ3ho2jcBw"
      }
    },
    {
      "cell_type": "markdown",
      "source": [
        "12.5 ¿Qué es la solvatación? ¿Cuáles son los factores que influyen en el grado de solvatación? Proporcione dos ejemplos de solvatación; incluya uno relacionado con la interacción ion-dipolo, y otro en el que intervengan fuerzas de despersión\n",
        "\n",
        "\n",
        "La solvatación es el proceso por el cual las moléculas de un disolvente se rodean de moléculas de un soluto. El soluto puede ser un ion, una molécula polar o una molécula no polar.\n",
        "\n",
        "La naturaleza del soluto y el disolvente, La carga del soluto, El tamaño del soluto, La temperatura.\n",
        "\n",
        "Interacción ion-dipolo:\n",
        "\n",
        "Una sal disuelta en agua: Las moléculas de agua se orientan de manera que sus dipolos se alinean con los iones de la sal. Esto forma una capa de solvatación alrededor de los iones, que les ayuda a estabilizarse en solución.\n",
        "Fuerzas de despersión:\n",
        "\n",
        "Un gas disuelto en un líquido: Las moléculas de gas se disuelven en el líquido debido a las fuerzas de dispersión de London. Estas fuerzas son débiles, pero son suficientes para mantener las moléculas de gas en solución.\n",
        "\n"
      ],
      "metadata": {
        "id": "o17hCvV8j0is"
      }
    },
    {
      "cell_type": "markdown",
      "source": [
        "12.6 Según se sabe, algunos procesos de disolución son endotérmicos y otros son exotérmicos. Proponga una inerpretación molecular de esta diferencia\n",
        "\n",
        "Procesos de disolución endotérmicos:\n",
        "\n",
        "La energía requerida para romper los enlaces intermoleculares del soluto es mayor que la energía liberada por la formación de las fuerzas intermoleculares entre el soluto y el disolvente.\n",
        "Se requiere energía externa para que el proceso ocurra.\n",
        "La disolución se produce con un descenso de la temperatura.\n",
        "\n",
        "\n",
        "Procesos de disolución exotérmicos:\n",
        "\n",
        "La energía liberada por la formación de las fuerzas intermoleculares entre el soluto y el disolvente es mayor que la energía requerida para romper los enlaces intermoleculares del soluto.\n",
        "El proceso libera energía.\n",
        "La disolución se produce con un aumento de la temperatura."
      ],
      "metadata": {
        "id": "QIhspRQxkpp2"
      }
    },
    {
      "cell_type": "markdown",
      "source": [
        "Unidades de concentración:\n",
        "\n",
        "12.13 Defina los siguientes términos de concentración y especifique sus unidades: \"porcentaje en masa\", \"fracción molar\", \"molaridad\". Compare sus ventajas y sus desventajas.\n",
        "\n",
        "Porcentaje de masa: El porcentaje en masa es una medida de la cantidad de soluto en una solución, expresado como un porcentaje del peso total de la solución. Se calcula como el peso del soluto dividido por el peso total de la solución, multiplicado por 100%.\n",
        "\n",
        "Fracción molar: La fracción molar es una medida de la cantidad de soluto en una solución, expresada como una fracción del número total de moles de soluto y disolvente. Se calcula como el número de moles de soluto dividido por la suma del número de moles de soluto y disolvente.\n",
        "\n",
        "Molarida: La molaridad es una medida de la concentración de una solución, expresada como el número de moles de soluto por litro de solución. Se calcula como el número de moles de soluto dividido por el volumen de la solución en litros.\n",
        "\n",
        "\n",
        "En general, la molaridad es la unidad de concentración más versátil y fácil de usar. Es adecuada para soluciones diluidas y concentradas, y es una medida relativa, lo que significa que no depende de la cantidad de disolvente.\n",
        "\n",
        "La fracción molar es una unidad de concentración relativa que es adecuada para soluciones diluidas. Es una medida más precisa que la molaridad para soluciones con un soluto denso.\n",
        "\n",
        "El porcentaje en masa es una unidad de concentración absoluta que es fácil de entender y recordar. Es una medida adecuada para soluciones concentradas, pero puede ser engañosa si la solución contiene un soluto denso."
      ],
      "metadata": {
        "id": "cXhhwew4lT-q"
      }
    },
    {
      "cell_type": "markdown",
      "source": [
        "12.14 Describa brevemente los pasos que se requieren para la convresión entre molaridad, molalidad y porcentaje en masa.\n",
        "\n",
        "Conversión entre molaridad y molalidad\n",
        "1. Calcular la densidad de la solución.\n",
        "2. Multiplicar la molaridad por la densidad para obtener la molalidad.\n",
        "\n",
        "Conversión entre porcentaje en masa y molaridad\n",
        "1. Dividir el porcentaje en masa por 100%.\n",
        "2. Multiplicar el resultado por la densidad de la solución.\n",
        "3. Dividir el resultado por la masa molar del soluto.\n",
        "\n",
        "Conversión entre molalidad y porcentaje en masa\n",
        "1. Multiplicar la molalidad por la masa molar del soluto.\n",
        "2. Dividir el resultado por el volumen de la solución en litros.\n",
        "3. Multiplicar el resultado por 100% para expresarlo como porcentaje.\n"
      ],
      "metadata": {
        "id": "uIJDPFEwqYgR"
      }
    },
    {
      "cell_type": "markdown",
      "source": [
        "12.15 Calcule el porcentaje en masa de soluto en cada una de las siguientes disoluciones acuosas: a) 5.50 g de NaBr en 78.2 g de sidolución, b) 31.0 g de KCl en 152 g de agua, c) 4.5 g de tolueno en 29 g de benceno."
      ],
      "metadata": {
        "id": "Q7BbHcrqrJv2"
      }
    },
    {
      "cell_type": "code",
      "source": [
        "def porcentaje_en_masa(masa_soluto, masa_solucion):\n",
        "    return masa_soluto / masa_solucion * 100\n",
        "\n",
        "masa_soluto_a = 5.50\n",
        "masa_solucion_a = 78.2\n",
        "\n",
        "porcentaje_en_masa_a = porcentaje_en_masa(masa_soluto_a, masa_solucion_a)\n",
        "print(f\"Porcentaje en masa de NaBr en solución a: {porcentaje_en_masa_a:.2f}%\")\n",
        "\n",
        "masa_soluto_b = 31.0\n",
        "masa_solucion_b = 152\n",
        "\n",
        "porcentaje_en_masa_b = porcentaje_en_masa(masa_soluto_b, masa_solucion_b)\n",
        "print(f\"Porcentaje en masa de KCl en solución b: {porcentaje_en_masa_b:.2f}%\")\n",
        "\n",
        "masa_soluto_c = 4.5\n",
        "masa_solucion_c = 29\n",
        "\n",
        "porcentaje_en_masa_c = porcentaje_en_masa(masa_soluto_c, masa_solucion_c)\n",
        "print(f\"Porcentaje en masa de tolueno en solución c: {porcentaje_en_masa_c:.2f}%\")"
      ],
      "metadata": {
        "colab": {
          "base_uri": "https://localhost:8080/"
        },
        "id": "RimOQURgr3u-",
        "outputId": "3ad70395-21ee-46f6-ec77-d4d77d6e9e6d"
      },
      "execution_count": null,
      "outputs": [
        {
          "output_type": "stream",
          "name": "stdout",
          "text": [
            "Porcentaje en masa de NaBr en solución a: 7.03%\n",
            "Porcentaje en masa de KCl en solución b: 20.39%\n",
            "Porcentaje en masa de tolueno en solución c: 15.52%\n"
          ]
        }
      ]
    },
    {
      "cell_type": "markdown",
      "source": [
        "12.16 Calcule la cantidad de agua (en gramos) que se debe agregar a: a) 5.00 g de urea (NH2)2CO para preparar una disolución al 16.2% en masa y b) 26.2 g de MgCl2 para preparar una disolución al 1.5% en masa."
      ],
      "metadata": {
        "id": "yeZkxqUxsLdK"
      }
    },
    {
      "cell_type": "code",
      "source": [
        "def cantidad_de_agua(masa_soluto, porcentaje_en_masa):\n",
        "    masa_total = masa_soluto / (1 - porcentaje_en_masa / 100)\n",
        "    return masa_total - masa_soluto\n",
        "\n",
        "masa_soluto_a = 5.00\n",
        "porcentaje_en_masa_a = 16.2\n",
        "\n",
        "cantidad_de_agua_a = cantidad_de_agua(masa_soluto_a, porcentaje_en_masa_a)\n",
        "print(f\"Cantidad de agua necesaria para solución a: {cantidad_de_agua_a:.2f} g\")\n",
        "\n",
        "masa_soluto_b = 26.2\n",
        "porcentaje_en_masa_b = 1.5\n",
        "\n",
        "cantidad_de_agua_b = cantidad_de_agua(masa_soluto_b, porcentaje_en_masa_b)\n",
        "print(f\"Cantidad de agua necesaria para solución b: {cantidad_de_agua_b:.2f} g\")"
      ],
      "metadata": {
        "colab": {
          "base_uri": "https://localhost:8080/"
        },
        "id": "HkwjiUBrstxT",
        "outputId": "d5ff3b6b-6209-444a-f6b5-0e150b1cef3a"
      },
      "execution_count": null,
      "outputs": [
        {
          "output_type": "stream",
          "name": "stdout",
          "text": [
            "Cantidad de agua necesaria para solución a: 0.97 g\n",
            "Cantidad de agua necesaria para solución b: 0.40 g\n"
          ]
        }
      ]
    },
    {
      "cell_type": "markdown",
      "source": [
        "12.17 Calcule la molalidad de cada una de las siguientes disolucions: a) 14.3 g de sacarosa (C12 H12 O11) en 676 g de agua, b) 7.20 moles de etilenglicol (C2 H6 O2) en 3546 g de agua."
      ],
      "metadata": {
        "id": "2LzFTh3zs8wm"
      }
    },
    {
      "cell_type": "code",
      "source": [
        "def molalidad(masa_soluto, masa_solvente, masa_molar_soluto):\n",
        "    return masa_soluto / (masa_solvente / masa_molar_soluto)\n",
        "\n",
        "masa_soluto_a = 14.3\n",
        "masa_solvente_a = 676\n",
        "masa_molar_soluto_a = 342.3\n",
        "\n",
        "molalidad_a = molalidad(masa_soluto_a, masa_solvente_a, masa_molar_soluto_a)\n",
        "print(f\"Molalidad de solución a: {molalidad_a:.2f} mol/kg\")\n",
        "\n",
        "masa_soluto_b = 7.20\n",
        "masa_solvente_b = 3546\n",
        "masa_molar_soluto_b = 62.07\n",
        "\n",
        "molalidad_b = molalidad(masa_soluto_b, masa_solvente_b, masa_molar_soluto_b)\n",
        "print(f\"Molalidad de solución b: {molalidad_b:.2f} mol/kg\")"
      ],
      "metadata": {
        "colab": {
          "base_uri": "https://localhost:8080/"
        },
        "id": "4Wwl4-DZtV18",
        "outputId": "41703cac-dc32-44c1-af34-d9bc784a1f75"
      },
      "execution_count": null,
      "outputs": [
        {
          "output_type": "stream",
          "name": "stdout",
          "text": [
            "Molalidad de solución a: 7.24 mol/kg\n",
            "Molalidad de solución b: 0.13 mol/kg\n"
          ]
        }
      ]
    },
    {
      "cell_type": "markdown",
      "source": [
        "12.18 Calcule la molalidad de cada una de las siguientes disoluciones acuosas: a) disolución de NaCl 2.50M(densidad de la disolución = 1.08 g/mL), b) disolución de NaOH 0.87 M(densidad de la disolución = 1.04 g/mL), c) disolución de NaHCO3 5.25 M (densidad de la disolución = 1.19 g/mL)."
      ],
      "metadata": {
        "id": "yuV8aZjDtotg"
      }
    },
    {
      "cell_type": "code",
      "source": [
        "# Definir las concentraciones y densidades\n",
        "concentracion_NaCl = 2.50\n",
        "densidad_NaCl = 1.08\n",
        "concentracion_NaOH = 0.87\n",
        "densidad_NaOH = 1.04\n",
        "concentracion_NaHCO3 = 5.25\n",
        "densidad_NaHCO3 = 1.19\n",
        "\n",
        "# Definir las masas moleculares de los solutos\n",
        "masa_molecular_NaCl = 58.44\n",
        "masa_molecular_NaOH = 40.00\n",
        "masa_molecular_NaHCO3 = 84.01\n",
        "\n",
        "# Función para calcular la molalidad\n",
        "def calcular_molalidad(concentracion, densidad, masa_molecular):\n",
        "    # Convertir densidad a kg/L\n",
        "    densidad_kg_L = densidad / 1000\n",
        "\n",
        "    # Calcular moles de soluto\n",
        "    moles_soluto = concentracion\n",
        "\n",
        "    # Calcular la molalidad (moles de soluto / kg de solvente)\n",
        "    molalidad = moles_soluto / densidad_kg_L\n",
        "    return molalidad\n",
        "\n",
        "# Calcular la molalidad para cada disolución\n",
        "molalidad_NaCl = calcular_molalidad(concentracion_NaCl, densidad_NaCl, masa_molecular_NaCl)\n",
        "molalidad_NaOH = calcular_molalidad(concentracion_NaOH, densidad_NaOH, masa_molecular_NaOH)\n",
        "molalidad_NaHCO3 = calcular_molalidad(concentracion_NaHCO3, densidad_NaHCO3, masa_molecular_NaHCO3)\n",
        "\n",
        "print(f\"Molalidad de la disolución de NaCl: {molalidad_NaCl:.2f} mol/kg\")\n",
        "print(f\"Molalidad de la disolución de NaOH: {molalidad_NaOH:.2f} mol/kg\")\n",
        "print(f\"Molalidad de la disolución de NaHCO3: {molalidad_NaHCO3:.2f} mol/kg\")"
      ],
      "metadata": {
        "colab": {
          "base_uri": "https://localhost:8080/"
        },
        "id": "CiCipGUJuuf5",
        "outputId": "f0ba4e97-5bb3-4f4a-adbd-728ce8815274"
      },
      "execution_count": null,
      "outputs": [
        {
          "output_type": "stream",
          "name": "stdout",
          "text": [
            "Molalidad de la disolución de NaCl: 2314.81 mol/kg\n",
            "Molalidad de la disolución de NaOH: 836.54 mol/kg\n",
            "Molalidad de la disolución de NaHCO3: 4411.76 mol/kg\n"
          ]
        }
      ]
    },
    {
      "cell_type": "markdown",
      "source": [
        "Efecto de la temperatura en la solubilidad:\n",
        "\n",
        "12.27 Una muestra de 3.20 g de una sal se disuelve en 9.10 g de agua para formar una disolución saturada a 25°C. ¿Cuál es la solubilidad (en g de sal/100 g de H2O) de la sal?"
      ],
      "metadata": {
        "id": "b9mBQIIEvKwi"
      }
    },
    {
      "cell_type": "code",
      "source": [
        "def solubilidad(masa_sal, masa_agua):\n",
        "    return masa_sal / (masa_agua / 100)\n",
        "\n",
        "masa_sal = 3.20\n",
        "masa_agua = 9.10\n",
        "\n",
        "solubilidad = solubilidad(masa_sal, masa_agua)\n",
        "print(f\"Solubilidad de la sal: {solubilidad:.2f} g/100 g\")"
      ],
      "metadata": {
        "colab": {
          "base_uri": "https://localhost:8080/"
        },
        "id": "v6ssKoFRwQBf",
        "outputId": "356476e7-0870-4490-f09a-bb6176f8f3d7"
      },
      "execution_count": null,
      "outputs": [
        {
          "output_type": "stream",
          "name": "stdout",
          "text": [
            "Solubilidad de la sal: 35.16 g/100 g\n"
          ]
        }
      ]
    }
  ]
}